{
  "metadata": {
    "accelerator": "GPU",
    "colab": {
      "provenance": []
    },
    "kernelspec": {
      "display_name": "Python 3 (ipykernel)",
      "language": "python",
      "name": "python3"
    },
    "language_info": {
      "codemirror_mode": {
        "name": "ipython",
        "version": 3
      },
      "file_extension": ".py",
      "mimetype": "text/x-python",
      "name": "python",
      "nbconvert_exporter": "python",
      "pygments_lexer": "ipython3",
      "version": "3.7.13"
    }
  },
  "nbformat_minor": 0,
  "nbformat": 4,
  "cells": [
    {
      "cell_type": "code",
      "source": [
        "%%capture\n",
        "!pip install iota-client"
      ],
      "metadata": {
        "id": "pNWSE76JdIGU"
      },
      "execution_count": 1,
      "outputs": []
    },
    {
      "cell_type": "code",
      "source": [
        "from google.colab import drive\n",
        "drive.mount('/content/drive')"
      ],
      "metadata": {
        "colab": {
          "base_uri": "https://localhost:8080/"
        },
        "id": "CYjtrirH2FXf",
        "outputId": "3437152c-b0a7-4ced-8cff-8fc0a16608ec"
      },
      "execution_count": 4,
      "outputs": [
        {
          "output_type": "stream",
          "name": "stdout",
          "text": [
            "Mounted at /content/drive\n"
          ]
        }
      ]
    },
    {
      "cell_type": "code",
      "source": [
        "import tensorflow as tf \n",
        "import numpy as np\n",
        "import uuid"
      ],
      "metadata": {
        "id": "O0maVQU1Vsri"
      },
      "execution_count": 35,
      "outputs": []
    },
    {
      "cell_type": "code",
      "source": [
        "new_model = tf.keras.models.load_model('/content/drive/MyDrive/BinaryClassification')"
      ],
      "metadata": {
        "id": "8elSi9ZYei-k"
      },
      "execution_count": 55,
      "outputs": []
    },
    {
      "cell_type": "code",
      "source": [
        "new_model.summary()"
      ],
      "metadata": {
        "colab": {
          "base_uri": "https://localhost:8080/"
        },
        "id": "qE-2GBpsfNG-",
        "outputId": "643a6993-032f-427a-ab23-e0f87b3ccf11"
      },
      "execution_count": 6,
      "outputs": [
        {
          "output_type": "stream",
          "name": "stdout",
          "text": [
            "Model: \"sequential_1\"\n",
            "_________________________________________________________________\n",
            " Layer (type)                Output Shape              Param #   \n",
            "=================================================================\n",
            " conv2d_1 (Conv2D)           (None, 64, 64, 3)         6         \n",
            "                                                                 \n",
            " feature_extraction_layer (K  (None, 2048)             23500352  \n",
            " erasLayer)                                                      \n",
            "                                                                 \n",
            " dense_layer (Dense)         (None, 256)               524544    \n",
            "                                                                 \n",
            " output_layer (Dense)        (None, 1)                 257       \n",
            "                                                                 \n",
            "=================================================================\n",
            "Total params: 24,025,159\n",
            "Trainable params: 24,025,159\n",
            "Non-trainable params: 0\n",
            "_________________________________________________________________\n"
          ]
        }
      ]
    },
    {
      "cell_type": "code",
      "source": [
        "img = tf.io.read_file(\"/content/drive/MyDrive/good.jpeg\")\n",
        "tensor = tf.io.decode_image(img, channels=1, dtype=tf.dtypes.float32)"
      ],
      "metadata": {
        "id": "HM8sdn6VgpIZ"
      },
      "execution_count": 7,
      "outputs": []
    },
    {
      "cell_type": "code",
      "source": [
        "p = new_model.predict(tf.expand_dims(tensor,0))\n",
        "if p>0.5:\n",
        "  print(\"The sample has no defect with probability\",\"{:.2f}\".format(p[0][0]*100))\n",
        "else:\n",
        "  print(\"The sample has a defect with probability\",\"{:.2f}\".format((1-p)[0][0]*100))"
      ],
      "metadata": {
        "colab": {
          "base_uri": "https://localhost:8080/"
        },
        "id": "YLBUgtTthUkr",
        "outputId": "ee4fb370-3e76-4985-b017-3a6b8b35fc23"
      },
      "execution_count": 29,
      "outputs": [
        {
          "output_type": "stream",
          "name": "stdout",
          "text": [
            "1/1 [==============================] - 0s 35ms/step\n",
            "The sample has no defect with probability 99.81\n"
          ]
        }
      ]
    },
    {
      "cell_type": "code",
      "source": [
        "img = tf.io.read_file(\"/content/drive/MyDrive/bad.jpeg\")\n",
        "tensor = tf.io.decode_image(img, channels=1, dtype=tf.dtypes.float32)"
      ],
      "metadata": {
        "id": "Z7hXp6WWhivN"
      },
      "execution_count": 30,
      "outputs": []
    },
    {
      "cell_type": "code",
      "source": [
        "p = new_model.predict(tf.expand_dims(tensor,0))\n",
        "if p>0.5:\n",
        "  print(\"The sample has no defect with probability\",\"{:.2f}\".format(p[0][0]*100))\n",
        "else:\n",
        "  print(\"The sample has a defect with probability\",\"{:.2f}\".format((1-p)[0][0]*100))"
      ],
      "metadata": {
        "colab": {
          "base_uri": "https://localhost:8080/"
        },
        "id": "gH4C06doh2E6",
        "outputId": "50e448cb-71c1-4b31-d58d-d01dddb333ce"
      },
      "execution_count": 32,
      "outputs": [
        {
          "output_type": "stream",
          "name": "stdout",
          "text": [
            "1/1 [==============================] - 0s 47ms/step\n",
            "The sample has a defect with probability 100.00\n"
          ]
        }
      ]
    },
    {
      "cell_type": "code",
      "source": [
        "import iota_client\n",
        "\n",
        "client = iota_client.Client(\n",
        "    nodes_name_password=[['https://api.lb-0.h.chrysalis-devnet.iota.cafe']])\n",
        "\n",
        "client.get_info()"
      ],
      "metadata": {
        "colab": {
          "base_uri": "https://localhost:8080/"
        },
        "id": "6NIwDFnSdFFk",
        "outputId": "2fdfb00d-b67e-44a1-cebe-0bc7cd6da8fd"
      },
      "execution_count": 56,
      "outputs": [
        {
          "output_type": "execute_result",
          "data": {
            "text/plain": [
              "{'nodeinfo': {'name': 'HORNET',\n",
              "  'version': '1.2.4',\n",
              "  'is_healthy': True,\n",
              "  'network_id': 'chrysalis-devnet',\n",
              "  'bech32_hrp': 'atoi',\n",
              "  'min_pow_score': 2000.0,\n",
              "  'messages_per_second': 4.0,\n",
              "  'referenced_messages_per_second': 4.0,\n",
              "  'referenced_rate': 100.0,\n",
              "  'latest_milestone_timestamp': 1679901450,\n",
              "  'latest_milestone_index': 5403191,\n",
              "  'confirmed_milestone_index': 5403191,\n",
              "  'pruning_index': 4740300,\n",
              "  'features': ['PoW', 'Participation']},\n",
              " 'url': 'https://api.lb-0.h.chrysalis-devnet.iota.cafe'}"
            ]
          },
          "metadata": {},
          "execution_count": 56
        }
      ]
    },
    {
      "cell_type": "code",
      "source": [
        "id = uuid.uuid4()\n",
        "message = client.message(index=\"Verification ID\",data=(\"verification id: \"+str(id)).encode(\"utf-8\"))\n",
        "print(\"Message ID:\",message['message_id'])\n",
        "print(\"Message Payload:\",''.join(chr(i) for i in message['payload']['indexation'][0]['data']))"
      ],
      "metadata": {
        "colab": {
          "base_uri": "https://localhost:8080/"
        },
        "id": "LGBQnx1UoMP6",
        "outputId": "c25aaccc-3c1b-42c7-986a-2214cb7e3ba6"
      },
      "execution_count": 53,
      "outputs": [
        {
          "output_type": "stream",
          "name": "stdout",
          "text": [
            "Message ID: a770cdf3dc0f5f0b9ba634e8dcf3d140606780432f49a6fa4037d5c6abea5dac\n",
            "Message Payload: verification id: dd18d520-ce8a-4dd1-a058-7e5236975ade\n"
          ]
        }
      ]
    }
  ]
}